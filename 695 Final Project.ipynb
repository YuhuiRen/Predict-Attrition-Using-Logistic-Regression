{
 "cells": [
  {
   "cell_type": "markdown",
   "metadata": {},
   "source": [
    "# Logistic Regression__Yuhui Ren"
   ]
  },
  {
   "cell_type": "markdown",
   "metadata": {},
   "source": [
    "### 1. Import Labraries"
   ]
  },
  {
   "cell_type": "code",
   "execution_count": 2,
   "metadata": {},
   "outputs": [],
   "source": [
    "import pandas as pd\n",
    "import numpy as np\n",
    "\n",
    "import warnings\n",
    "warnings.filterwarnings(\"ignore\")"
   ]
  },
  {
   "cell_type": "markdown",
   "metadata": {},
   "source": [
    "### 2. Show Some Samples of the Raw Dataset"
   ]
  },
  {
   "cell_type": "code",
   "execution_count": 3,
   "metadata": {
    "scrolled": true
   },
   "outputs": [
    {
     "data": {
      "text/html": [
       "<div>\n",
       "<style scoped>\n",
       "    .dataframe tbody tr th:only-of-type {\n",
       "        vertical-align: middle;\n",
       "    }\n",
       "\n",
       "    .dataframe tbody tr th {\n",
       "        vertical-align: top;\n",
       "    }\n",
       "\n",
       "    .dataframe thead th {\n",
       "        text-align: right;\n",
       "    }\n",
       "</style>\n",
       "<table border=\"1\" class=\"dataframe\">\n",
       "  <thead>\n",
       "    <tr style=\"text-align: right;\">\n",
       "      <th></th>\n",
       "      <th>Age</th>\n",
       "      <th>Attrition</th>\n",
       "      <th>DailyRate</th>\n",
       "      <th>Department</th>\n",
       "      <th>Education</th>\n",
       "      <th>EducationField</th>\n",
       "      <th>EnvironmentSatisfaction</th>\n",
       "      <th>Gender</th>\n",
       "      <th>JobInvolvement</th>\n",
       "      <th>JobLevel</th>\n",
       "      <th>...</th>\n",
       "      <th>MonthlyRate</th>\n",
       "      <th>OverTime</th>\n",
       "      <th>PercentSalaryHike</th>\n",
       "      <th>RelationshipSatisfaction</th>\n",
       "      <th>StockOptionLevel</th>\n",
       "      <th>TotalWorkingYears</th>\n",
       "      <th>YearsAtCompany</th>\n",
       "      <th>YearsInCurrentRole</th>\n",
       "      <th>YearsSinceLastPromotion</th>\n",
       "      <th>YearsWithCurrManager</th>\n",
       "    </tr>\n",
       "  </thead>\n",
       "  <tbody>\n",
       "    <tr>\n",
       "      <th>0</th>\n",
       "      <td>41</td>\n",
       "      <td>1</td>\n",
       "      <td>1102</td>\n",
       "      <td>Sales</td>\n",
       "      <td>2</td>\n",
       "      <td>Life Sciences</td>\n",
       "      <td>2</td>\n",
       "      <td>Female</td>\n",
       "      <td>3</td>\n",
       "      <td>2</td>\n",
       "      <td>...</td>\n",
       "      <td>19479</td>\n",
       "      <td>Yes</td>\n",
       "      <td>11</td>\n",
       "      <td>1</td>\n",
       "      <td>0</td>\n",
       "      <td>8</td>\n",
       "      <td>6</td>\n",
       "      <td>4</td>\n",
       "      <td>0</td>\n",
       "      <td>5</td>\n",
       "    </tr>\n",
       "    <tr>\n",
       "      <th>1</th>\n",
       "      <td>49</td>\n",
       "      <td>0</td>\n",
       "      <td>279</td>\n",
       "      <td>Research &amp; Development</td>\n",
       "      <td>1</td>\n",
       "      <td>Life Sciences</td>\n",
       "      <td>3</td>\n",
       "      <td>Male</td>\n",
       "      <td>2</td>\n",
       "      <td>2</td>\n",
       "      <td>...</td>\n",
       "      <td>24907</td>\n",
       "      <td>No</td>\n",
       "      <td>23</td>\n",
       "      <td>4</td>\n",
       "      <td>1</td>\n",
       "      <td>10</td>\n",
       "      <td>10</td>\n",
       "      <td>7</td>\n",
       "      <td>1</td>\n",
       "      <td>7</td>\n",
       "    </tr>\n",
       "    <tr>\n",
       "      <th>2</th>\n",
       "      <td>37</td>\n",
       "      <td>1</td>\n",
       "      <td>1373</td>\n",
       "      <td>Research &amp; Development</td>\n",
       "      <td>2</td>\n",
       "      <td>Other</td>\n",
       "      <td>4</td>\n",
       "      <td>Male</td>\n",
       "      <td>2</td>\n",
       "      <td>1</td>\n",
       "      <td>...</td>\n",
       "      <td>2396</td>\n",
       "      <td>Yes</td>\n",
       "      <td>15</td>\n",
       "      <td>2</td>\n",
       "      <td>0</td>\n",
       "      <td>7</td>\n",
       "      <td>0</td>\n",
       "      <td>0</td>\n",
       "      <td>0</td>\n",
       "      <td>0</td>\n",
       "    </tr>\n",
       "  </tbody>\n",
       "</table>\n",
       "<p>3 rows × 24 columns</p>\n",
       "</div>"
      ],
      "text/plain": [
       "   Age  Attrition  DailyRate              Department  Education  \\\n",
       "0   41          1       1102                   Sales          2   \n",
       "1   49          0        279  Research & Development          1   \n",
       "2   37          1       1373  Research & Development          2   \n",
       "\n",
       "  EducationField  EnvironmentSatisfaction  Gender  JobInvolvement  JobLevel  \\\n",
       "0  Life Sciences                        2  Female               3         2   \n",
       "1  Life Sciences                        3    Male               2         2   \n",
       "2          Other                        4    Male               2         1   \n",
       "\n",
       "   ... MonthlyRate  OverTime PercentSalaryHike  RelationshipSatisfaction  \\\n",
       "0  ...       19479       Yes                11                         1   \n",
       "1  ...       24907        No                23                         4   \n",
       "2  ...        2396       Yes                15                         2   \n",
       "\n",
       "   StockOptionLevel TotalWorkingYears  YearsAtCompany  YearsInCurrentRole  \\\n",
       "0                 0                 8               6                   4   \n",
       "1                 1                10              10                   7   \n",
       "2                 0                 7               0                   0   \n",
       "\n",
       "   YearsSinceLastPromotion  YearsWithCurrManager  \n",
       "0                        0                     5  \n",
       "1                        1                     7  \n",
       "2                        0                     0  \n",
       "\n",
       "[3 rows x 24 columns]"
      ]
     },
     "execution_count": 3,
     "metadata": {},
     "output_type": "execute_result"
    }
   ],
   "source": [
    "data = pd.read_csv('HR Analytics.csv')\n",
    "data.head(3)          "
   ]
  },
  {
   "cell_type": "markdown",
   "metadata": {},
   "source": [
    "### 3. Data Preprocessing"
   ]
  },
  {
   "cell_type": "markdown",
   "metadata": {},
   "source": [
    "### 3.1. Get Dummy Variables"
   ]
  },
  {
   "cell_type": "markdown",
   "metadata": {},
   "source": [
    "Since there are some non-numeric features, such as *Department*, *EducationField* etc., let's change them into numeric ones by getting dummies."
   ]
  },
  {
   "cell_type": "code",
   "execution_count": 4,
   "metadata": {},
   "outputs": [
    {
     "data": {
      "text/html": [
       "<div>\n",
       "<style scoped>\n",
       "    .dataframe tbody tr th:only-of-type {\n",
       "        vertical-align: middle;\n",
       "    }\n",
       "\n",
       "    .dataframe tbody tr th {\n",
       "        vertical-align: top;\n",
       "    }\n",
       "\n",
       "    .dataframe thead th {\n",
       "        text-align: right;\n",
       "    }\n",
       "</style>\n",
       "<table border=\"1\" class=\"dataframe\">\n",
       "  <thead>\n",
       "    <tr style=\"text-align: right;\">\n",
       "      <th></th>\n",
       "      <th>Age</th>\n",
       "      <th>Attrition</th>\n",
       "      <th>DailyRate</th>\n",
       "      <th>Education</th>\n",
       "      <th>EnvironmentSatisfaction</th>\n",
       "      <th>JobInvolvement</th>\n",
       "      <th>JobLevel</th>\n",
       "      <th>JobSatisfaction</th>\n",
       "      <th>MonthlyIncome</th>\n",
       "      <th>MonthlyRate</th>\n",
       "      <th>...</th>\n",
       "      <th>JobRole_Laboratory Technician</th>\n",
       "      <th>JobRole_Manager</th>\n",
       "      <th>JobRole_Manufacturing Director</th>\n",
       "      <th>JobRole_Research Director</th>\n",
       "      <th>JobRole_Research Scientist</th>\n",
       "      <th>JobRole_Sales Executive</th>\n",
       "      <th>JobRole_Sales Representative</th>\n",
       "      <th>MaritalStatus_Married</th>\n",
       "      <th>MaritalStatus_Single</th>\n",
       "      <th>OverTime_Yes</th>\n",
       "    </tr>\n",
       "  </thead>\n",
       "  <tbody>\n",
       "    <tr>\n",
       "      <th>267</th>\n",
       "      <td>25</td>\n",
       "      <td>0</td>\n",
       "      <td>675</td>\n",
       "      <td>2</td>\n",
       "      <td>2</td>\n",
       "      <td>4</td>\n",
       "      <td>2</td>\n",
       "      <td>1</td>\n",
       "      <td>4000</td>\n",
       "      <td>18384</td>\n",
       "      <td>...</td>\n",
       "      <td>0</td>\n",
       "      <td>0</td>\n",
       "      <td>0</td>\n",
       "      <td>0</td>\n",
       "      <td>0</td>\n",
       "      <td>0</td>\n",
       "      <td>0</td>\n",
       "      <td>0</td>\n",
       "      <td>0</td>\n",
       "      <td>0</td>\n",
       "    </tr>\n",
       "    <tr>\n",
       "      <th>1185</th>\n",
       "      <td>43</td>\n",
       "      <td>0</td>\n",
       "      <td>1291</td>\n",
       "      <td>2</td>\n",
       "      <td>3</td>\n",
       "      <td>2</td>\n",
       "      <td>4</td>\n",
       "      <td>3</td>\n",
       "      <td>17603</td>\n",
       "      <td>3525</td>\n",
       "      <td>...</td>\n",
       "      <td>0</td>\n",
       "      <td>0</td>\n",
       "      <td>0</td>\n",
       "      <td>1</td>\n",
       "      <td>0</td>\n",
       "      <td>0</td>\n",
       "      <td>0</td>\n",
       "      <td>1</td>\n",
       "      <td>0</td>\n",
       "      <td>0</td>\n",
       "    </tr>\n",
       "    <tr>\n",
       "      <th>871</th>\n",
       "      <td>24</td>\n",
       "      <td>1</td>\n",
       "      <td>984</td>\n",
       "      <td>2</td>\n",
       "      <td>4</td>\n",
       "      <td>3</td>\n",
       "      <td>1</td>\n",
       "      <td>2</td>\n",
       "      <td>2210</td>\n",
       "      <td>3372</td>\n",
       "      <td>...</td>\n",
       "      <td>1</td>\n",
       "      <td>0</td>\n",
       "      <td>0</td>\n",
       "      <td>0</td>\n",
       "      <td>0</td>\n",
       "      <td>0</td>\n",
       "      <td>0</td>\n",
       "      <td>1</td>\n",
       "      <td>0</td>\n",
       "      <td>0</td>\n",
       "    </tr>\n",
       "  </tbody>\n",
       "</table>\n",
       "<p>3 rows × 37 columns</p>\n",
       "</div>"
      ],
      "text/plain": [
       "      Age  Attrition  DailyRate  Education  EnvironmentSatisfaction  \\\n",
       "267    25          0        675          2                        2   \n",
       "1185   43          0       1291          2                        3   \n",
       "871    24          1        984          2                        4   \n",
       "\n",
       "      JobInvolvement  JobLevel  JobSatisfaction  MonthlyIncome  MonthlyRate  \\\n",
       "267                4         2                1           4000        18384   \n",
       "1185               2         4                3          17603         3525   \n",
       "871                3         1                2           2210         3372   \n",
       "\n",
       "      ...  JobRole_Laboratory Technician  JobRole_Manager  \\\n",
       "267   ...                              0                0   \n",
       "1185  ...                              0                0   \n",
       "871   ...                              1                0   \n",
       "\n",
       "      JobRole_Manufacturing Director  JobRole_Research Director  \\\n",
       "267                                0                          0   \n",
       "1185                               0                          1   \n",
       "871                                0                          0   \n",
       "\n",
       "      JobRole_Research Scientist  JobRole_Sales Executive  \\\n",
       "267                            0                        0   \n",
       "1185                           0                        0   \n",
       "871                            0                        0   \n",
       "\n",
       "      JobRole_Sales Representative  MaritalStatus_Married  \\\n",
       "267                              0                      0   \n",
       "1185                             0                      1   \n",
       "871                              0                      1   \n",
       "\n",
       "      MaritalStatus_Single  OverTime_Yes  \n",
       "267                      0             0  \n",
       "1185                     0             0  \n",
       "871                      0             0  \n",
       "\n",
       "[3 rows x 37 columns]"
      ]
     },
     "execution_count": 4,
     "metadata": {},
     "output_type": "execute_result"
    }
   ],
   "source": [
    "dummies = ['Department', 'EducationField', 'Gender', 'JobRole', 'MaritalStatus', 'OverTime']\n",
    "data = pd.get_dummies(data, columns = dummies, drop_first=True)   # change the non-numeric features to dummies\n",
    "data.sample(3)    # show some randome samples of the dataset after geting dummies"
   ]
  },
  {
   "cell_type": "code",
   "execution_count": 5,
   "metadata": {},
   "outputs": [
    {
     "data": {
      "text/plain": [
       "False"
      ]
     },
     "execution_count": 5,
     "metadata": {},
     "output_type": "execute_result"
    }
   ],
   "source": [
    "data.isnull().values.any()  # check if the dataset has NaN or not"
   ]
  },
  {
   "cell_type": "code",
   "execution_count": 6,
   "metadata": {},
   "outputs": [
    {
     "data": {
      "text/html": [
       "<div>\n",
       "<style scoped>\n",
       "    .dataframe tbody tr th:only-of-type {\n",
       "        vertical-align: middle;\n",
       "    }\n",
       "\n",
       "    .dataframe tbody tr th {\n",
       "        vertical-align: top;\n",
       "    }\n",
       "\n",
       "    .dataframe thead th {\n",
       "        text-align: right;\n",
       "    }\n",
       "</style>\n",
       "<table border=\"1\" class=\"dataframe\">\n",
       "  <thead>\n",
       "    <tr style=\"text-align: right;\">\n",
       "      <th></th>\n",
       "      <th>Age</th>\n",
       "      <th>Attrition</th>\n",
       "      <th>DailyRate</th>\n",
       "      <th>Education</th>\n",
       "      <th>EnvironmentSatisfaction</th>\n",
       "      <th>JobInvolvement</th>\n",
       "      <th>JobLevel</th>\n",
       "      <th>JobSatisfaction</th>\n",
       "      <th>MonthlyIncome</th>\n",
       "      <th>MonthlyRate</th>\n",
       "      <th>...</th>\n",
       "      <th>JobRole_Laboratory Technician</th>\n",
       "      <th>JobRole_Manager</th>\n",
       "      <th>JobRole_Manufacturing Director</th>\n",
       "      <th>JobRole_Research Director</th>\n",
       "      <th>JobRole_Research Scientist</th>\n",
       "      <th>JobRole_Sales Executive</th>\n",
       "      <th>JobRole_Sales Representative</th>\n",
       "      <th>MaritalStatus_Married</th>\n",
       "      <th>MaritalStatus_Single</th>\n",
       "      <th>OverTime_Yes</th>\n",
       "    </tr>\n",
       "  </thead>\n",
       "  <tbody>\n",
       "    <tr>\n",
       "      <th>count</th>\n",
       "      <td>1470.000000</td>\n",
       "      <td>1470.000000</td>\n",
       "      <td>1470.000000</td>\n",
       "      <td>1470.000000</td>\n",
       "      <td>1470.000000</td>\n",
       "      <td>1470.000000</td>\n",
       "      <td>1470.000000</td>\n",
       "      <td>1470.000000</td>\n",
       "      <td>1470.000000</td>\n",
       "      <td>1470.000000</td>\n",
       "      <td>...</td>\n",
       "      <td>1470.000000</td>\n",
       "      <td>1470.000000</td>\n",
       "      <td>1470.000000</td>\n",
       "      <td>1470.000000</td>\n",
       "      <td>1470.000000</td>\n",
       "      <td>1470.000000</td>\n",
       "      <td>1470.000000</td>\n",
       "      <td>1470.000000</td>\n",
       "      <td>1470.000000</td>\n",
       "      <td>1470.000000</td>\n",
       "    </tr>\n",
       "    <tr>\n",
       "      <th>mean</th>\n",
       "      <td>36.923810</td>\n",
       "      <td>0.161224</td>\n",
       "      <td>802.485714</td>\n",
       "      <td>2.912925</td>\n",
       "      <td>2.721769</td>\n",
       "      <td>2.729932</td>\n",
       "      <td>2.063946</td>\n",
       "      <td>2.728571</td>\n",
       "      <td>6502.931293</td>\n",
       "      <td>14313.103401</td>\n",
       "      <td>...</td>\n",
       "      <td>0.176190</td>\n",
       "      <td>0.069388</td>\n",
       "      <td>0.098639</td>\n",
       "      <td>0.054422</td>\n",
       "      <td>0.198639</td>\n",
       "      <td>0.221769</td>\n",
       "      <td>0.056463</td>\n",
       "      <td>0.457823</td>\n",
       "      <td>0.319728</td>\n",
       "      <td>0.282993</td>\n",
       "    </tr>\n",
       "    <tr>\n",
       "      <th>std</th>\n",
       "      <td>9.135373</td>\n",
       "      <td>0.367863</td>\n",
       "      <td>403.509100</td>\n",
       "      <td>1.024165</td>\n",
       "      <td>1.093082</td>\n",
       "      <td>0.711561</td>\n",
       "      <td>1.106940</td>\n",
       "      <td>1.102846</td>\n",
       "      <td>4707.956783</td>\n",
       "      <td>7117.786044</td>\n",
       "      <td>...</td>\n",
       "      <td>0.381112</td>\n",
       "      <td>0.254199</td>\n",
       "      <td>0.298279</td>\n",
       "      <td>0.226925</td>\n",
       "      <td>0.399112</td>\n",
       "      <td>0.415578</td>\n",
       "      <td>0.230891</td>\n",
       "      <td>0.498387</td>\n",
       "      <td>0.466530</td>\n",
       "      <td>0.450606</td>\n",
       "    </tr>\n",
       "    <tr>\n",
       "      <th>min</th>\n",
       "      <td>18.000000</td>\n",
       "      <td>0.000000</td>\n",
       "      <td>102.000000</td>\n",
       "      <td>1.000000</td>\n",
       "      <td>1.000000</td>\n",
       "      <td>1.000000</td>\n",
       "      <td>1.000000</td>\n",
       "      <td>1.000000</td>\n",
       "      <td>1009.000000</td>\n",
       "      <td>2094.000000</td>\n",
       "      <td>...</td>\n",
       "      <td>0.000000</td>\n",
       "      <td>0.000000</td>\n",
       "      <td>0.000000</td>\n",
       "      <td>0.000000</td>\n",
       "      <td>0.000000</td>\n",
       "      <td>0.000000</td>\n",
       "      <td>0.000000</td>\n",
       "      <td>0.000000</td>\n",
       "      <td>0.000000</td>\n",
       "      <td>0.000000</td>\n",
       "    </tr>\n",
       "    <tr>\n",
       "      <th>25%</th>\n",
       "      <td>30.000000</td>\n",
       "      <td>0.000000</td>\n",
       "      <td>465.000000</td>\n",
       "      <td>2.000000</td>\n",
       "      <td>2.000000</td>\n",
       "      <td>2.000000</td>\n",
       "      <td>1.000000</td>\n",
       "      <td>2.000000</td>\n",
       "      <td>2911.000000</td>\n",
       "      <td>8047.000000</td>\n",
       "      <td>...</td>\n",
       "      <td>0.000000</td>\n",
       "      <td>0.000000</td>\n",
       "      <td>0.000000</td>\n",
       "      <td>0.000000</td>\n",
       "      <td>0.000000</td>\n",
       "      <td>0.000000</td>\n",
       "      <td>0.000000</td>\n",
       "      <td>0.000000</td>\n",
       "      <td>0.000000</td>\n",
       "      <td>0.000000</td>\n",
       "    </tr>\n",
       "    <tr>\n",
       "      <th>50%</th>\n",
       "      <td>36.000000</td>\n",
       "      <td>0.000000</td>\n",
       "      <td>802.000000</td>\n",
       "      <td>3.000000</td>\n",
       "      <td>3.000000</td>\n",
       "      <td>3.000000</td>\n",
       "      <td>2.000000</td>\n",
       "      <td>3.000000</td>\n",
       "      <td>4919.000000</td>\n",
       "      <td>14235.500000</td>\n",
       "      <td>...</td>\n",
       "      <td>0.000000</td>\n",
       "      <td>0.000000</td>\n",
       "      <td>0.000000</td>\n",
       "      <td>0.000000</td>\n",
       "      <td>0.000000</td>\n",
       "      <td>0.000000</td>\n",
       "      <td>0.000000</td>\n",
       "      <td>0.000000</td>\n",
       "      <td>0.000000</td>\n",
       "      <td>0.000000</td>\n",
       "    </tr>\n",
       "    <tr>\n",
       "      <th>75%</th>\n",
       "      <td>43.000000</td>\n",
       "      <td>0.000000</td>\n",
       "      <td>1157.000000</td>\n",
       "      <td>4.000000</td>\n",
       "      <td>4.000000</td>\n",
       "      <td>3.000000</td>\n",
       "      <td>3.000000</td>\n",
       "      <td>4.000000</td>\n",
       "      <td>8379.000000</td>\n",
       "      <td>20461.500000</td>\n",
       "      <td>...</td>\n",
       "      <td>0.000000</td>\n",
       "      <td>0.000000</td>\n",
       "      <td>0.000000</td>\n",
       "      <td>0.000000</td>\n",
       "      <td>0.000000</td>\n",
       "      <td>0.000000</td>\n",
       "      <td>0.000000</td>\n",
       "      <td>1.000000</td>\n",
       "      <td>1.000000</td>\n",
       "      <td>1.000000</td>\n",
       "    </tr>\n",
       "    <tr>\n",
       "      <th>max</th>\n",
       "      <td>60.000000</td>\n",
       "      <td>1.000000</td>\n",
       "      <td>1499.000000</td>\n",
       "      <td>5.000000</td>\n",
       "      <td>4.000000</td>\n",
       "      <td>4.000000</td>\n",
       "      <td>5.000000</td>\n",
       "      <td>4.000000</td>\n",
       "      <td>19999.000000</td>\n",
       "      <td>26999.000000</td>\n",
       "      <td>...</td>\n",
       "      <td>1.000000</td>\n",
       "      <td>1.000000</td>\n",
       "      <td>1.000000</td>\n",
       "      <td>1.000000</td>\n",
       "      <td>1.000000</td>\n",
       "      <td>1.000000</td>\n",
       "      <td>1.000000</td>\n",
       "      <td>1.000000</td>\n",
       "      <td>1.000000</td>\n",
       "      <td>1.000000</td>\n",
       "    </tr>\n",
       "  </tbody>\n",
       "</table>\n",
       "<p>8 rows × 37 columns</p>\n",
       "</div>"
      ],
      "text/plain": [
       "               Age    Attrition    DailyRate    Education  \\\n",
       "count  1470.000000  1470.000000  1470.000000  1470.000000   \n",
       "mean     36.923810     0.161224   802.485714     2.912925   \n",
       "std       9.135373     0.367863   403.509100     1.024165   \n",
       "min      18.000000     0.000000   102.000000     1.000000   \n",
       "25%      30.000000     0.000000   465.000000     2.000000   \n",
       "50%      36.000000     0.000000   802.000000     3.000000   \n",
       "75%      43.000000     0.000000  1157.000000     4.000000   \n",
       "max      60.000000     1.000000  1499.000000     5.000000   \n",
       "\n",
       "       EnvironmentSatisfaction  JobInvolvement     JobLevel  JobSatisfaction  \\\n",
       "count              1470.000000     1470.000000  1470.000000      1470.000000   \n",
       "mean                  2.721769        2.729932     2.063946         2.728571   \n",
       "std                   1.093082        0.711561     1.106940         1.102846   \n",
       "min                   1.000000        1.000000     1.000000         1.000000   \n",
       "25%                   2.000000        2.000000     1.000000         2.000000   \n",
       "50%                   3.000000        3.000000     2.000000         3.000000   \n",
       "75%                   4.000000        3.000000     3.000000         4.000000   \n",
       "max                   4.000000        4.000000     5.000000         4.000000   \n",
       "\n",
       "       MonthlyIncome   MonthlyRate  ...  JobRole_Laboratory Technician  \\\n",
       "count    1470.000000   1470.000000  ...                    1470.000000   \n",
       "mean     6502.931293  14313.103401  ...                       0.176190   \n",
       "std      4707.956783   7117.786044  ...                       0.381112   \n",
       "min      1009.000000   2094.000000  ...                       0.000000   \n",
       "25%      2911.000000   8047.000000  ...                       0.000000   \n",
       "50%      4919.000000  14235.500000  ...                       0.000000   \n",
       "75%      8379.000000  20461.500000  ...                       0.000000   \n",
       "max     19999.000000  26999.000000  ...                       1.000000   \n",
       "\n",
       "       JobRole_Manager  JobRole_Manufacturing Director  \\\n",
       "count      1470.000000                     1470.000000   \n",
       "mean          0.069388                        0.098639   \n",
       "std           0.254199                        0.298279   \n",
       "min           0.000000                        0.000000   \n",
       "25%           0.000000                        0.000000   \n",
       "50%           0.000000                        0.000000   \n",
       "75%           0.000000                        0.000000   \n",
       "max           1.000000                        1.000000   \n",
       "\n",
       "       JobRole_Research Director  JobRole_Research Scientist  \\\n",
       "count                1470.000000                 1470.000000   \n",
       "mean                    0.054422                    0.198639   \n",
       "std                     0.226925                    0.399112   \n",
       "min                     0.000000                    0.000000   \n",
       "25%                     0.000000                    0.000000   \n",
       "50%                     0.000000                    0.000000   \n",
       "75%                     0.000000                    0.000000   \n",
       "max                     1.000000                    1.000000   \n",
       "\n",
       "       JobRole_Sales Executive  JobRole_Sales Representative  \\\n",
       "count              1470.000000                   1470.000000   \n",
       "mean                  0.221769                      0.056463   \n",
       "std                   0.415578                      0.230891   \n",
       "min                   0.000000                      0.000000   \n",
       "25%                   0.000000                      0.000000   \n",
       "50%                   0.000000                      0.000000   \n",
       "75%                   0.000000                      0.000000   \n",
       "max                   1.000000                      1.000000   \n",
       "\n",
       "       MaritalStatus_Married  MaritalStatus_Single  OverTime_Yes  \n",
       "count            1470.000000           1470.000000   1470.000000  \n",
       "mean                0.457823              0.319728      0.282993  \n",
       "std                 0.498387              0.466530      0.450606  \n",
       "min                 0.000000              0.000000      0.000000  \n",
       "25%                 0.000000              0.000000      0.000000  \n",
       "50%                 0.000000              0.000000      0.000000  \n",
       "75%                 1.000000              1.000000      1.000000  \n",
       "max                 1.000000              1.000000      1.000000  \n",
       "\n",
       "[8 rows x 37 columns]"
      ]
     },
     "execution_count": 6,
     "metadata": {},
     "output_type": "execute_result"
    }
   ],
   "source": [
    "data.describe() # inspect the data statistical info"
   ]
  },
  {
   "cell_type": "markdown",
   "metadata": {},
   "source": [
    "From the above data description, we see that the data scale is imbalanced. <br>\n",
    "For example, mean of *MonthlyRate* is 14313, while mean of *JobRole_Sales Representative* is only 0.05. <br>\n",
    "So, let's sclae the whole dataset:"
   ]
  },
  {
   "cell_type": "markdown",
   "metadata": {},
   "source": [
    "### 3.2 Scale the Dataset"
   ]
  },
  {
   "cell_type": "markdown",
   "metadata": {},
   "source": [
    "Before scaling, let's split the whole dataset to train set and test set."
   ]
  },
  {
   "cell_type": "code",
   "execution_count": 7,
   "metadata": {},
   "outputs": [
    {
     "name": "stdout",
     "output_type": "stream",
     "text": [
      "(1470, 36) (1470, 1)\n"
     ]
    }
   ],
   "source": [
    "X = data.drop(['Attrition'], axis=1)      # split data to X (features) and y (target)\n",
    "y = data[['Attrition']]\n",
    "print(X.shape, y.shape)"
   ]
  },
  {
   "cell_type": "code",
   "execution_count": 8,
   "metadata": {},
   "outputs": [],
   "source": [
    "from sklearn.model_selection import train_test_split        # split data to train and test set\n",
    "\n",
    "X_train, X_test, y_train, y_test = train_test_split(X, y, test_size=0.25, shuffle=True)"
   ]
  },
  {
   "cell_type": "code",
   "execution_count": 9,
   "metadata": {},
   "outputs": [],
   "source": [
    "from sklearn.preprocessing import StandardScaler\n",
    "\n",
    "scaler = StandardScaler()\n",
    "scaler.fit(X_train)                 # fit the scaler with X_train set\n",
    "X_train = scaler.transform(X_train) # transform X_train with the fitted scaler\n",
    "X_test = scaler.transform(X_test)   # transform X_test with the fitted scaler"
   ]
  },
  {
   "cell_type": "code",
   "execution_count": 10,
   "metadata": {},
   "outputs": [
    {
     "name": "stdout",
     "output_type": "stream",
     "text": [
      "[[ 1.73508494 -1.41445903]\n",
      " [-2.05998289 -1.4344726 ]\n",
      " [-0.32509474  0.65444306]]\n",
      "[[ 0.75921035 -1.58457432]\n",
      " [ 0.1086273   0.94213803]\n",
      " [ 0.97607137 -0.60140803]]\n"
     ]
    }
   ],
   "source": [
    "print(X_train[:3,:2])   # show scaled X_train, just first 3 rows & first 2 columns for demostration\n",
    "print(X_test[:3,:2])    # show scaled X_test, just first 3 rows & first 2 columns for demostration"
   ]
  },
  {
   "cell_type": "markdown",
   "metadata": {},
   "source": [
    "### 4. Modeling: Logistic Regression"
   ]
  },
  {
   "cell_type": "markdown",
   "metadata": {},
   "source": [
    "### 4.1. Baseline Model"
   ]
  },
  {
   "cell_type": "markdown",
   "metadata": {},
   "source": [
    "Let's use *GridSearch* to find out the best hyper-parametes' combination."
   ]
  },
  {
   "cell_type": "code",
   "execution_count": 11,
   "metadata": {},
   "outputs": [],
   "source": [
    "from sklearn.linear_model import LogisticRegression\n",
    "from sklearn.model_selection import GridSearchCV"
   ]
  },
  {
   "cell_type": "code",
   "execution_count": 12,
   "metadata": {},
   "outputs": [],
   "source": [
    "clf = LogisticRegression()\n",
    "\n",
    "solvers = ['newton-cg', 'lbfgs', 'sag', 'saga']  # 'liblinear' isn't included, because it doesn't support setting penalty='none'\n",
    "penalty = ['l2', 'none']  # 'l1' and 'elasticnet' are not included, because 'newton-cg', 'lbfgs', 'sag' and 'saga' don't support 'l1' and 'elasticnet'\n",
    "c_values = [0.01, 0.1, 1, 10, 100]\n",
    "\n",
    "param_grid = dict(solver=solvers, penalty=penalty, C=c_values)\n",
    "gs_clf = GridSearchCV(estimator=clf, param_grid=param_grid, cv=5, scoring='accuracy')\n",
    "gs_result = gs_clf.fit(X_train, y_train)"
   ]
  },
  {
   "cell_type": "markdown",
   "metadata": {},
   "source": [
    "Show results from different combinations:"
   ]
  },
  {
   "cell_type": "code",
   "execution_count": 13,
   "metadata": {},
   "outputs": [
    {
     "name": "stdout",
     "output_type": "stream",
     "text": [
      "0.856635 (0.007150) with: {'C': 0.01, 'penalty': 'l2', 'solver': 'newton-cg'}\n",
      "0.856635 (0.007150) with: {'C': 0.01, 'penalty': 'l2', 'solver': 'lbfgs'}\n",
      "0.856635 (0.007150) with: {'C': 0.01, 'penalty': 'l2', 'solver': 'sag'}\n",
      "0.856635 (0.007150) with: {'C': 0.01, 'penalty': 'l2', 'solver': 'saga'}\n",
      "0.852086 (0.008441) with: {'C': 0.01, 'penalty': 'none', 'solver': 'newton-cg'}\n",
      "0.851181 (0.007791) with: {'C': 0.01, 'penalty': 'none', 'solver': 'lbfgs'}\n",
      "0.852090 (0.006733) with: {'C': 0.01, 'penalty': 'none', 'solver': 'sag'}\n",
      "0.852090 (0.006733) with: {'C': 0.01, 'penalty': 'none', 'solver': 'saga'}\n",
      "0.864796 (0.004279) with: {'C': 0.1, 'penalty': 'l2', 'solver': 'newton-cg'}\n",
      "0.864796 (0.004279) with: {'C': 0.1, 'penalty': 'l2', 'solver': 'lbfgs'}\n",
      "0.864796 (0.004279) with: {'C': 0.1, 'penalty': 'l2', 'solver': 'sag'}\n",
      "0.864796 (0.004279) with: {'C': 0.1, 'penalty': 'l2', 'solver': 'saga'}\n",
      "0.852086 (0.008441) with: {'C': 0.1, 'penalty': 'none', 'solver': 'newton-cg'}\n",
      "0.851181 (0.007791) with: {'C': 0.1, 'penalty': 'none', 'solver': 'lbfgs'}\n",
      "0.852090 (0.006733) with: {'C': 0.1, 'penalty': 'none', 'solver': 'sag'}\n",
      "0.852090 (0.006733) with: {'C': 0.1, 'penalty': 'none', 'solver': 'saga'}\n",
      "0.858453 (0.008560) with: {'C': 1, 'penalty': 'l2', 'solver': 'newton-cg'}\n",
      "0.858453 (0.008560) with: {'C': 1, 'penalty': 'l2', 'solver': 'lbfgs'}\n",
      "0.858453 (0.008560) with: {'C': 1, 'penalty': 'l2', 'solver': 'sag'}\n",
      "0.858453 (0.008560) with: {'C': 1, 'penalty': 'l2', 'solver': 'saga'}\n",
      "0.852086 (0.008441) with: {'C': 1, 'penalty': 'none', 'solver': 'newton-cg'}\n",
      "0.851181 (0.007791) with: {'C': 1, 'penalty': 'none', 'solver': 'lbfgs'}\n",
      "0.852090 (0.006733) with: {'C': 1, 'penalty': 'none', 'solver': 'sag'}\n",
      "0.852090 (0.006733) with: {'C': 1, 'penalty': 'none', 'solver': 'saga'}\n",
      "0.852090 (0.006733) with: {'C': 10, 'penalty': 'l2', 'solver': 'newton-cg'}\n",
      "0.852090 (0.006733) with: {'C': 10, 'penalty': 'l2', 'solver': 'lbfgs'}\n",
      "0.852090 (0.006733) with: {'C': 10, 'penalty': 'l2', 'solver': 'sag'}\n",
      "0.852090 (0.006094) with: {'C': 10, 'penalty': 'l2', 'solver': 'saga'}\n",
      "0.852086 (0.008441) with: {'C': 10, 'penalty': 'none', 'solver': 'newton-cg'}\n",
      "0.851181 (0.007791) with: {'C': 10, 'penalty': 'none', 'solver': 'lbfgs'}\n",
      "0.852090 (0.006733) with: {'C': 10, 'penalty': 'none', 'solver': 'sag'}\n",
      "0.852090 (0.006733) with: {'C': 10, 'penalty': 'none', 'solver': 'saga'}\n",
      "0.851181 (0.007791) with: {'C': 100, 'penalty': 'l2', 'solver': 'newton-cg'}\n",
      "0.851181 (0.007791) with: {'C': 100, 'penalty': 'l2', 'solver': 'lbfgs'}\n",
      "0.852090 (0.006733) with: {'C': 100, 'penalty': 'l2', 'solver': 'sag'}\n",
      "0.852090 (0.006733) with: {'C': 100, 'penalty': 'l2', 'solver': 'saga'}\n",
      "0.852086 (0.008441) with: {'C': 100, 'penalty': 'none', 'solver': 'newton-cg'}\n",
      "0.851181 (0.007791) with: {'C': 100, 'penalty': 'none', 'solver': 'lbfgs'}\n",
      "0.852090 (0.006733) with: {'C': 100, 'penalty': 'none', 'solver': 'sag'}\n",
      "0.852090 (0.006733) with: {'C': 100, 'penalty': 'none', 'solver': 'saga'}\n"
     ]
    }
   ],
   "source": [
    "means = gs_clf.cv_results_['mean_test_score']\n",
    "stds = gs_clf.cv_results_['std_test_score']\n",
    "params = gs_clf.cv_results_['params']\n",
    "for mean, stdev, param in zip(means, stds, params):\n",
    "    print(\"%f (%f) with: %r\" % (mean, stdev, param))"
   ]
  },
  {
   "cell_type": "markdown",
   "metadata": {},
   "source": [
    "Show the best hyper-parameters' combination:"
   ]
  },
  {
   "cell_type": "code",
   "execution_count": 14,
   "metadata": {},
   "outputs": [
    {
     "name": "stdout",
     "output_type": "stream",
     "text": [
      "Best Score: 0.864796 \n",
      "Best Combination: {'C': 0.1, 'penalty': 'l2', 'solver': 'newton-cg'}\n"
     ]
    }
   ],
   "source": [
    "print(\"Best Score: %f \\nBest Combination: %s\" % (gs_clf.best_score_, gs_clf.best_params_))"
   ]
  },
  {
   "cell_type": "markdown",
   "metadata": {},
   "source": [
    "Now, use the refitted *gs_clf* (with best hyper-parameters' combination) to make prediction on testing set:"
   ]
  },
  {
   "cell_type": "code",
   "execution_count": 15,
   "metadata": {},
   "outputs": [],
   "source": [
    "y_hat = gs_clf.predict(X_test)  # predict on testing set"
   ]
  },
  {
   "cell_type": "markdown",
   "metadata": {},
   "source": [
    "Now, let's see the results:"
   ]
  },
  {
   "cell_type": "code",
   "execution_count": 57,
   "metadata": {},
   "outputs": [
    {
     "name": "stdout",
     "output_type": "stream",
     "text": [
      "              precision    recall  f1-score   support\n",
      "\n",
      "           0       0.86      0.98      0.92       300\n",
      "           1       0.77      0.29      0.43        68\n",
      "\n",
      "    accuracy                           0.85       368\n",
      "   macro avg       0.81      0.64      0.67       368\n",
      "weighted avg       0.84      0.85      0.83       368\n",
      "\n"
     ]
    }
   ],
   "source": [
    "from sklearn.metrics import classification_report\n",
    "\n",
    "print(classification_report(y_test, y_hat))\n",
    "result1 = classification_report(y_test, y_hat, output_dict=True)"
   ]
  },
  {
   "cell_type": "markdown",
   "metadata": {},
   "source": [
    "We see the model makes pretty good results on classifying **group 0**, which means the employees do not leave companies **(Attrition=0)**. <br>\n",
    "However, the model makes pretty poor prediction on classifying **group 1**, which means the employees leave companies **(Attrition=1)**. <br>\n",
    "The reason behind this phenomenon could be that the dataset is imbalanced with more samples in **group 0** but much less samples on **group 1**.<br>\n",
    "So, let's try to use **over sampling** for the dataset with **SMOTE** technique, to make both groups balanced."
   ]
  },
  {
   "cell_type": "markdown",
   "metadata": {},
   "source": [
    "### 4.2 Model with SMOTE"
   ]
  },
  {
   "cell_type": "markdown",
   "metadata": {},
   "source": [
    "Let's check the number of samples for each group firstly:"
   ]
  },
  {
   "cell_type": "code",
   "execution_count": 17,
   "metadata": {},
   "outputs": [
    {
     "name": "stdout",
     "output_type": "stream",
     "text": [
      "Total number of employees: 1470\n",
      "237 employees leave companies (16.12%). \n",
      "1233 employees not (83.88%).\n"
     ]
    }
   ],
   "source": [
    "total = len(y)\n",
    "g1_num = y['Attrition'].sum()\n",
    "g0_num = total - g1_num\n",
    "\n",
    "print('Total number of employees: {}'.format(len(y)))\n",
    "print('{} employees leave companies ({}%). '.format(g1_num, (g1_num/total*100).round(2)))\n",
    "print('{} employees not ({}%).'.format(g0_num, (g0_num/total*100).round(2)))"
   ]
  },
  {
   "cell_type": "markdown",
   "metadata": {},
   "source": [
    "The dataset is indeed imbalance, with only 16.12% and 83.88% samples in the two groups.<br>\n",
    "Over-sampling is needed:"
   ]
  },
  {
   "cell_type": "code",
   "execution_count": 19,
   "metadata": {},
   "outputs": [
    {
     "name": "stdout",
     "output_type": "stream",
     "text": [
      "Collecting imblearn\n",
      "  Using cached imblearn-0.0-py2.py3-none-any.whl (1.9 kB)\n",
      "Collecting imbalanced-learn\n",
      "  Using cached imbalanced_learn-0.8.0-py3-none-any.whl (206 kB)\n",
      "Requirement already satisfied: joblib>=0.11 in c:\\users\\zhou\\anaconda3\\lib\\site-packages (from imbalanced-learn->imblearn) (0.17.0)\n",
      "Requirement already satisfied: numpy>=1.13.3 in c:\\users\\zhou\\anaconda3\\lib\\site-packages (from imbalanced-learn->imblearn) (1.18.5)\n",
      "Requirement already satisfied: scikit-learn>=0.24 in c:\\users\\zhou\\anaconda3\\lib\\site-packages (from imbalanced-learn->imblearn) (0.24.1)\n",
      "Requirement already satisfied: scipy>=0.19.1 in c:\\users\\zhou\\anaconda3\\lib\\site-packages (from imbalanced-learn->imblearn) (1.5.2)\n",
      "Requirement already satisfied: threadpoolctl>=2.0.0 in c:\\users\\zhou\\anaconda3\\lib\\site-packages (from scikit-learn>=0.24->imbalanced-learn->imblearn) (2.1.0)\n",
      "Installing collected packages: imbalanced-learn, imblearn\n",
      "Successfully installed imbalanced-learn-0.8.0 imblearn-0.0\n"
     ]
    }
   ],
   "source": [
    "!pip install imblearn"
   ]
  },
  {
   "cell_type": "code",
   "execution_count": 18,
   "metadata": {},
   "outputs": [],
   "source": [
    "from imblearn.over_sampling import SMOTE\n",
    "from imblearn.over_sampling import SMOTE \n",
    "\n",
    "oversample = SMOTE()\n",
    "X_SMOTE, y_SMOTE = oversample.fit_resample(X, y)"
   ]
  },
  {
   "cell_type": "markdown",
   "metadata": {},
   "source": [
    "Check the shape of data before and after SMOTE:"
   ]
  },
  {
   "cell_type": "code",
   "execution_count": 19,
   "metadata": {},
   "outputs": [
    {
     "name": "stdout",
     "output_type": "stream",
     "text": [
      "(1470, 36) (1470, 1)\n",
      "(2466, 36) (2466, 1)\n"
     ]
    }
   ],
   "source": [
    "print(X.shape, y.shape)\n",
    "print(X_SMOTE.shape, y_SMOTE.shape)"
   ]
  },
  {
   "cell_type": "markdown",
   "metadata": {},
   "source": [
    "Check number of employees who leave companies and who not:"
   ]
  },
  {
   "cell_type": "code",
   "execution_count": 20,
   "metadata": {},
   "outputs": [
    {
     "name": "stdout",
     "output_type": "stream",
     "text": [
      "Total number of employees: 2466\n",
      "1233 employees leave companies (50.0%). \n",
      "1233 employees not (50.0%).\n"
     ]
    }
   ],
   "source": [
    "total = len(y_SMOTE)\n",
    "g1_num = y_SMOTE['Attrition'].sum()\n",
    "g0_num = total - g1_num\n",
    "\n",
    "print('Total number of employees: {}'.format(len(y_SMOTE)))\n",
    "print('{} employees leave companies ({}%). '.format(g1_num, (g1_num/total*100).round(2)))\n",
    "print('{} employees not ({}%).'.format(g0_num, (g0_num/total*100).round(2)))"
   ]
  },
  {
   "cell_type": "markdown",
   "metadata": {},
   "source": [
    "Now, let's use Logistic Regression to make prediction on data after SMOTE.<br>\n",
    "Since the dataset is modified, we use GridSearch to find best hyper-parameters' combination again:"
   ]
  },
  {
   "cell_type": "code",
   "execution_count": 23,
   "metadata": {},
   "outputs": [],
   "source": [
    "X_train_SMOTE, X_test_SMOTE, y_train_SMOTE, y_test_SMOTE = train_test_split(X_SMOTE, y_SMOTE, test_size=0.25)"
   ]
  },
  {
   "cell_type": "code",
   "execution_count": 24,
   "metadata": {},
   "outputs": [
    {
     "name": "stdout",
     "output_type": "stream",
     "text": [
      "Best Score: 0.894010 \n",
      "Best Combination: {'C': 10, 'penalty': 'l2', 'solver': 'newton-cg'}\n"
     ]
    }
   ],
   "source": [
    "clf2 = LogisticRegression()\n",
    "\n",
    "solvers = ['newton-cg', 'lbfgs', 'sag', 'saga']  # 'liblinear' isn't included, because it doesn't support setting penalty='none'\n",
    "penalty = ['l2', 'none']  # 'l1' and 'elasticnet' are not included, because 'newton-cg', 'lbfgs', 'sag' and 'saga' don't support 'l1' and 'elasticnet'\n",
    "c_values = [0.01, 0.1, 1, 10, 100]\n",
    "\n",
    "param_grid = dict(solver=solvers, penalty=penalty, C=c_values)\n",
    "gs_clf2 = GridSearchCV(estimator=clf2, param_grid=param_grid, cv=5, scoring='accuracy')\n",
    "grid_result2 = gs_clf2.fit(X_train_SMOTE, y_train_SMOTE)\n",
    "\n",
    "print(\"Best Score: %f \\nBest Combination: %s\" % (gs_clf2.best_score_, gs_clf2.best_params_))"
   ]
  },
  {
   "cell_type": "markdown",
   "metadata": {},
   "source": [
    "Make predictions on test set (after **SMOTE**) using best hyper-parameters' combination:"
   ]
  },
  {
   "cell_type": "code",
   "execution_count": 25,
   "metadata": {},
   "outputs": [],
   "source": [
    "y_hat_SMOTE = gs_clf2.predict(X_test_SMOTE)  # predict on testing set"
   ]
  },
  {
   "cell_type": "markdown",
   "metadata": {},
   "source": [
    "Check the prediction results:"
   ]
  },
  {
   "cell_type": "code",
   "execution_count": 56,
   "metadata": {},
   "outputs": [
    {
     "name": "stdout",
     "output_type": "stream",
     "text": [
      "              precision    recall  f1-score   support\n",
      "\n",
      "           0       0.87      0.92      0.90       303\n",
      "           1       0.92      0.87      0.90       314\n",
      "\n",
      "    accuracy                           0.90       617\n",
      "   macro avg       0.90      0.90      0.90       617\n",
      "weighted avg       0.90      0.90      0.90       617\n",
      "\n"
     ]
    }
   ],
   "source": [
    "print(classification_report(y_test_SMOTE, y_hat_SMOTE))\n",
    "result2 = classification_report(y_test_SMOTE, y_hat_SMOTE, output_dict=True)"
   ]
  },
  {
   "cell_type": "markdown",
   "metadata": {},
   "source": [
    "Prediction results for group1 dramatically imcreased! <br>\n",
    "However, prediction results for group0 slightly decreased."
   ]
  },
  {
   "cell_type": "markdown",
   "metadata": {},
   "source": [
    "Since the dataset has too many (36) features , let's try to select significant features and predict again, to see whether the performance may improve or not."
   ]
  },
  {
   "cell_type": "markdown",
   "metadata": {},
   "source": [
    "### 4.3. Model with Feature Selection"
   ]
  },
  {
   "cell_type": "code",
   "execution_count": 29,
   "metadata": {},
   "outputs": [],
   "source": [
    "from sklearn.feature_selection import RFE"
   ]
  },
  {
   "cell_type": "code",
   "execution_count": 30,
   "metadata": {},
   "outputs": [],
   "source": [
    "model_fs = LogisticRegression(C=10, penalty='l2', solver='newton-cg')   # use the combination got from SMOTE section\n",
    "rfe = RFE(model_fs, n_features_to_select=None) # keep half of the features\n",
    "rfe = rfe.fit(X_SMOTE, y_SMOTE)"
   ]
  },
  {
   "cell_type": "code",
   "execution_count": 33,
   "metadata": {},
   "outputs": [
    {
     "name": "stdout",
     "output_type": "stream",
     "text": [
      "Selected features: \n",
      "['JobInvolvement', 'StockOptionLevel', 'Department_Research & Development', 'Department_Sales', 'EducationField_Life Sciences', 'EducationField_Marketing', 'EducationField_Medical', 'EducationField_Other', 'EducationField_Technical Degree', 'JobRole_Human Resources', 'JobRole_Manager', 'JobRole_Manufacturing Director', 'JobRole_Research Director', 'JobRole_Sales Executive', 'JobRole_Sales Representative', 'MaritalStatus_Married', 'MaritalStatus_Single', 'OverTime_Yes']\n"
     ]
    }
   ],
   "source": [
    "print('Selected features: \\n%s' % list(X_SMOTE.columns[rfe.support_]))\n",
    "Selected_features = list(X.columns[rfe.support_])"
   ]
  },
  {
   "cell_type": "markdown",
   "metadata": {},
   "source": [
    "Now, only the selected significant half of the features are used:"
   ]
  },
  {
   "cell_type": "code",
   "execution_count": 34,
   "metadata": {},
   "outputs": [],
   "source": [
    "X_SMOTE_sf = X_SMOTE[Selected_features]"
   ]
  },
  {
   "cell_type": "code",
   "execution_count": 37,
   "metadata": {},
   "outputs": [],
   "source": [
    "X_SMOTE_sf_train, X_SMOTE_sf_test, y_SMOTE_sf_train, y_SMOTE_sf_test = train_test_split(X_SMOTE_sf, y_SMOTE, test_size=0.25)"
   ]
  },
  {
   "cell_type": "markdown",
   "metadata": {},
   "source": [
    "Since the dataset is again modified, with only half of the features left, let's find out best hyper-parameters' combination with the latest dataset:"
   ]
  },
  {
   "cell_type": "code",
   "execution_count": 39,
   "metadata": {},
   "outputs": [
    {
     "name": "stdout",
     "output_type": "stream",
     "text": [
      "Best Score: 0.872909 \n",
      "Best Combination: {'C': 0.01, 'penalty': 'none', 'solver': 'newton-cg'}\n"
     ]
    }
   ],
   "source": [
    "clf3 = LogisticRegression()\n",
    "\n",
    "solvers = ['newton-cg', 'lbfgs', 'sag', 'saga']  # 'liblinear' isn't included, because it doesn't support setting penalty='none'\n",
    "penalty = ['l2', 'none']  # 'l1' and 'elasticnet' are not included, because 'newton-cg', 'lbfgs', 'sag' and 'saga' don't support 'l1' and 'elasticnet'\n",
    "c_values = [0.01, 0.1, 1, 10, 100]\n",
    "\n",
    "param_grid = dict(solver=solvers, penalty=penalty, C=c_values)\n",
    "gs_clf3 = GridSearchCV(estimator=clf3, param_grid=param_grid, cv=5, scoring='accuracy')\n",
    "grid_result3 = gs_clf3.fit(X_SMOTE_sf_train, y_SMOTE_sf_train)\n",
    "\n",
    "print(\"Best Score: %f \\nBest Combination: %s\" % (gs_clf3.best_score_, gs_clf3.best_params_))"
   ]
  },
  {
   "cell_type": "markdown",
   "metadata": {},
   "source": [
    "Make predictions on test set (after **feature selection**) using best hyper-parameters' combination:"
   ]
  },
  {
   "cell_type": "code",
   "execution_count": 41,
   "metadata": {},
   "outputs": [],
   "source": [
    "y_hat_SMOTE_sf = gs_clf3.predict(X_SMOTE_sf_test)  # predict on testing set"
   ]
  },
  {
   "cell_type": "markdown",
   "metadata": {},
   "source": [
    "Check the prediction results:"
   ]
  },
  {
   "cell_type": "code",
   "execution_count": 55,
   "metadata": {},
   "outputs": [
    {
     "name": "stdout",
     "output_type": "stream",
     "text": [
      "              precision    recall  f1-score   support\n",
      "\n",
      "           0       0.86      0.97      0.91       318\n",
      "           1       0.97      0.83      0.89       299\n",
      "\n",
      "    accuracy                           0.90       617\n",
      "   macro avg       0.91      0.90      0.90       617\n",
      "weighted avg       0.91      0.90      0.90       617\n",
      "\n"
     ]
    }
   ],
   "source": [
    "print(classification_report(y_SMOTE_sf_test, y_hat_SMOTE_sf))\n",
    "result3 = classification_report(y_SMOTE_sf_test, y_hat_SMOTE_sf, output_dict=True)"
   ]
  },
  {
   "cell_type": "code",
   "execution_count": 46,
   "metadata": {},
   "outputs": [
    {
     "data": {
      "text/plain": [
       "str"
      ]
     },
     "execution_count": 46,
     "metadata": {},
     "output_type": "execute_result"
    }
   ],
   "source": [
    "res = classification_report(y_SMOTE_sf_test, y_hat_SMOTE_sf)\n",
    "res"
   ]
  },
  {
   "cell_type": "markdown",
   "metadata": {},
   "source": [
    "### Summery"
   ]
  },
  {
   "cell_type": "markdown",
   "metadata": {},
   "source": [
    "In the end, lets' check the models' performance along the whole story:"
   ]
  },
  {
   "cell_type": "code",
   "execution_count": 70,
   "metadata": {},
   "outputs": [],
   "source": [
    "precision_g0_list = [result1['0']['precision'], result2['0']['precision'], result3['0']['precision']]\n",
    "precision_g1_list = [result1['1']['precision'], result2['1']['precision'], result3['1']['precision']]"
   ]
  },
  {
   "cell_type": "code",
   "execution_count": 81,
   "metadata": {},
   "outputs": [
    {
     "data": {
      "image/png": "[encoded data removed]",
      "text/plain": [
       "<Figure size 432x288 with 1 Axes>"
      ]
     },
     "metadata": {
      "needs_background": "light"
     },
     "output_type": "display_data"
    }
   ],
   "source": [
    "from matplotlib import pyplot as plt\n",
    "\n",
    "plt.plot(precision_g0_list, label='Group0, Attrition=0')\n",
    "plt.plot(precision_g1_list, label='Group1, Attrition=1')\n",
    "\n",
    "plt.title('Precison from the 3 Logistic Regression Models')\n",
    "plt.ylabel('Precision')\n",
    "plt.xlabel('Logistic Regression Models')\n",
    "plt.xticks([0,1,2], ['Model_Baseline', 'Model_SMOTE','Model_Feature Selection'])\n",
    "plt.legend()\n",
    "plt.show()"
   ]
  },
  {
   "cell_type": "markdown",
   "metadata": {},
   "source": [
    "The precisions for Group0 has a bit fluctuation, but mainly remains the same.<br>\n",
    "The precisions for Group1 always keep increasing with the modifications for the 3 models, from the 1st baseline model, to the 2nd model with SMOTE, to 3rd model with feature selection."
   ]
  }
 ],
 "metadata": {
  "kernelspec": {
   "display_name": "Python 3",
   "language": "python",
   "name": "python3"
  },
  "language_info": {
   "codemirror_mode": {
    "name": "ipython",
    "version": 3
   },
   "file_extension": ".py",
   "mimetype": "text/x-python",
   "name": "python",
   "nbconvert_exporter": "python",
   "pygments_lexer": "ipython3",
   "version": "3.8.5"
  }
 },
 "nbformat": 4,
 "nbformat_minor": 4
}
